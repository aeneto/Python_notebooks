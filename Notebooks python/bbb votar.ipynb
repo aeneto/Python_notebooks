{
 "cells": [
  {
   "cell_type": "code",
   "execution_count": null,
   "id": "dc93fb6e",
   "metadata": {},
   "outputs": [],
   "source": [
    "import pyautogui #faz a automacao do mouse e do teclado\n",
    "import time #controla o tempo do nosso programa\n",
    "import pyperclip #ela permite a gente copiar e colar com o python\n",
    "\n",
    "\n",
    "pyautogui.PAUSE = 1\n",
    "\n",
    "\n",
    "#Passo 1: Entrar no sistema (Link do Google Drive)\n",
    "pyautogui.hotkey('ctrl', 't')\n",
    "link = \"https://gshow.globo.com/realities/bbb/bbb21/votacao/paredao-bbb21-vote-para-eliminar-arthur-camilla-de-lucas-ou-pocah-d9f6f830-a983-4463-b52b-eccc9eb39d6f.ghtml\"\n",
    "\n",
    "#da ctrl+c \n",
    "pyperclip.copy(link)\n",
    "\n",
    "#ctrl+v\n",
    "pyautogui.hotkey('ctrl', 'v')\n",
    "pyautogui.press(\"enter\")\n",
    "\n",
    "#esperar um pouco\n",
    "time.sleep(5)\n",
    "\n",
    "\n",
    "for i in range(0,10):\n",
    "    pyautogui.click(851,504)\n",
    "    time.sleep(5)\n",
    "    pyautogui.click(835,679)\n",
    "    time.sleep(20)\n",
    "    pyautogui.click(956,422)\n",
    "    time.sleep(20)\n",
    "\n",
    "\n"
   ]
  },
  {
   "cell_type": "code",
   "execution_count": 24,
   "id": "35f46e65",
   "metadata": {},
   "outputs": [
    {
     "data": {
      "text/plain": [
       "Point(x=956, y=422)"
      ]
     },
     "execution_count": 24,
     "metadata": {},
     "output_type": "execute_result"
    }
   ],
   "source": [
    "#o pyautogui consegue verificar a posição na losa, conforme plano cartesiano\n",
    "\n",
    "time.sleep(5)\n",
    "pyautogui.position()"
   ]
  },
  {
   "cell_type": "code",
   "execution_count": null,
   "id": "07b620ee",
   "metadata": {},
   "outputs": [],
   "source": []
  }
 ],
 "metadata": {
  "kernelspec": {
   "display_name": "Python 3",
   "language": "python",
   "name": "python3"
  },
  "language_info": {
   "codemirror_mode": {
    "name": "ipython",
    "version": 3
   },
   "file_extension": ".py",
   "mimetype": "text/x-python",
   "name": "python",
   "nbconvert_exporter": "python",
   "pygments_lexer": "ipython3",
   "version": "3.9.4"
  }
 },
 "nbformat": 4,
 "nbformat_minor": 5
}
