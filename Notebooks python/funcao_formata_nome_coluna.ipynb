{
 "cells": [
  {
   "cell_type": "code",
   "execution_count": 5,
   "id": "2c5cf9d2",
   "metadata": {},
   "outputs": [],
   "source": [
    "import pandas as pd\n",
    "import os\n",
    "import unicodedata"
   ]
  },
  {
   "cell_type": "code",
   "execution_count": 23,
   "id": "b03058d5",
   "metadata": {},
   "outputs": [],
   "source": [
    "arquivo_1 = pd.read_excel('valor_2018.xlsx')\n",
    "arquivo_2= pd.read_excel('valor_2019.xlsx')\n",
    "#arquivo_3 = pd.read_excel('area_colhida_permanente_3_2019.xlsx')\n"
   ]
  },
  {
   "cell_type": "code",
   "execution_count": 24,
   "id": "4194eca1",
   "metadata": {},
   "outputs": [],
   "source": [
    "#unir dois arquivos\n",
    "final  = pd.merge(arquivo_1, arquivo_2, on='codigo', how='left')"
   ]
  },
  {
   "cell_type": "code",
   "execution_count": 25,
   "id": "2850e0a6",
   "metadata": {},
   "outputs": [],
   "source": [
    "#unir mais um arquivo\n",
    "#final = pd.merge(df, arquivo_3, on='Cód.', how='left')"
   ]
  },
  {
   "cell_type": "code",
   "execution_count": 26,
   "id": "0076afef",
   "metadata": {},
   "outputs": [],
   "source": [
    "#função que tira acentos dos nomes das colunas\n",
    "def convert_to_non_accent(string):\n",
    "    \"\"\" Function to convert accent characters to non accent\n",
    "    characters.\n",
    "\n",
    "    :param string: String to be converted.\n",
    "    :type string: str\n",
    "    :return: str\n",
    "    \"\"\"\n",
    "    return ''.join(ch for ch in unicodedata.normalize('NFKD', string)\n",
    "                   if not unicodedata.combining(ch))\n"
   ]
  },
  {
   "cell_type": "code",
   "execution_count": 27,
   "id": "d174dc16",
   "metadata": {},
   "outputs": [
    {
     "data": {
      "text/plain": [
       "Index(['codigo', 'municipio_x', 'total_2018', 'abacaxi_2018',\n",
       "       'alfafa_fenada_2018', 'algodao_herbaceo_em_caroco_2018', 'alho_2018',\n",
       "       'amendoim_em_casca_2018', 'arroz_em_casca_2018', 'aveia_em_grao_2018',\n",
       "       'batata_doce_2018', 'batata_inglesa_2018', 'cana_de_acucar_2018',\n",
       "       'cana_para_forragem_2018', 'cebola_2018', 'centeio_em_grao_2018',\n",
       "       'cevada_em_grao_2018', 'ervilha_em_grao_2018', 'fava_em_grao_2018',\n",
       "       'feijao_em_grao_2018', 'fumo_em_folha_2018', 'girassol_em_grao_2018',\n",
       "       'juta_fibra_2018', 'linho_semente_2018', 'malva_fibra_2018',\n",
       "       'mamona_baga_2018', 'mandioca_2018', 'melancia_2018', 'melao_2018',\n",
       "       'milho_em_grao_2018', 'rami_fibra_2018', 'soja_em_grao_2018',\n",
       "       'sorgo_em_grao_2018', 'tomate_2018', 'trigo_em_grao_2018',\n",
       "       'triticale_em_grao_2018', 'municipio_y', 'total_2019', 'abacaxi_2019',\n",
       "       'alfafa_fenada_2019', 'algodao_herbaceo_em_caroco_2019', 'alho_2019',\n",
       "       'amendoim_em_casca_2019', 'arroz_em_casca_2019', 'aveia_em_grao_2019',\n",
       "       'batata_doce_2019', 'batata_inglesa_2019', 'cana_de_acucar_2019',\n",
       "       'cana_para_forragem_2019', 'cebola_2019', 'centeio_em_grao_2019',\n",
       "       'cevada_em_grao_2019', 'ervilha_em_grao_2019', 'fava_em_grao_2019',\n",
       "       'feijao_em_grao_2019', 'fumo_em_folha_2019', 'girassol_em_grao_2019',\n",
       "       'juta_fibra_2019', 'linho_semente_2019', 'malva_fibra_2019',\n",
       "       'mamona_baga_2019', 'mandioca_2019', 'melancia_2019', 'melao_2019',\n",
       "       'milho_em_grao_2019', 'rami_fibra_2019', 'soja_em_grao_2019',\n",
       "       'sorgo_em_grao_2019', 'tomate_2019', 'trigo_em_grao_2019',\n",
       "       'triticale_em_grao_2019'],\n",
       "      dtype='object')"
      ]
     },
     "execution_count": 27,
     "metadata": {},
     "output_type": "execute_result"
    }
   ],
   "source": [
    "final.columns = [col.replace(\" \", \"_\") for col in final.columns]\n",
    "final.columns = [col.replace(\"-\", \"_\") for col in final.columns]\n",
    "final.columns = [col.replace(\"(\", \"_\") for col in final.columns]\n",
    "final.columns = [col.replace(\")\", \"_\") for col in final.columns]\n",
    "\n",
    "final.columns = final.columns.str.lower().str.replace(' ', '_').str.replace('__', '_')\n",
    "final.columns = final.columns.str.lower().str.replace(' ', '_').str.replace('__', '_')\n",
    "\n",
    "\n",
    "final.columns = list(convert_to_non_accent(x)\n",
    "                             for x in final.columns)\n",
    "\n",
    "\n",
    "final.columns"
   ]
  },
  {
   "cell_type": "code",
   "execution_count": 19,
   "id": "37cf1895",
   "metadata": {},
   "outputs": [],
   "source": [
    "#final.columns = final.columns +'_2019'\n"
   ]
  },
  {
   "cell_type": "code",
   "execution_count": 28,
   "id": "aed85480",
   "metadata": {},
   "outputs": [],
   "source": [
    "final.columns = final.columns.str.lower().str.replace(' ', '_').str.replace('__', '_')"
   ]
  },
  {
   "cell_type": "code",
   "execution_count": 29,
   "id": "954fa082",
   "metadata": {},
   "outputs": [],
   "source": [
    "final.to_excel(r'C:\\Users\\André Neto\\Documents\\Notebooks python\\valor.xlsx')"
   ]
  },
  {
   "cell_type": "code",
   "execution_count": 101,
   "id": "e3142d68",
   "metadata": {},
   "outputs": [
    {
     "data": {
      "text/plain": [
       "Index(['cod._2019', 'municipio_x_2019', 'total_2019', 'abacate_2019',\n",
       "       'algodao_arboreo_em_caroco_2019', 'acai_2019', 'azeitona_2019',\n",
       "       'banana_cacho_2019', 'borracha_latex_coagulado_2019',\n",
       "       'borracha_latex_liquido_2019', 'cacau_em_amendoa_2019',\n",
       "       'cafe_em_grao_total_2019', 'municipio_y_2019',\n",
       "       'cafe_em_grao_arabica_2019', 'cafe_em_grao_canephora_2019', 'caju_2019',\n",
       "       'caqui_2019', 'castanha_de_caju_2019', 'cha_da_india_folha_verde_2019',\n",
       "       'coco_da_baia_2019', 'dende_cacho_de_coco_2019',\n",
       "       'erva_mate_folha_verde_2019', 'figo_2019', 'municipio_2019',\n",
       "       'goiaba_2019', 'guarana_semente_2019', 'laranja_2019', 'limao_2019',\n",
       "       'maca_2019', 'mamao_2019', 'manga_2019', 'maracuja_2019',\n",
       "       'marmelo_2019', 'noz_fruto_seco_2019', 'palmito_2019', 'pera_2019',\n",
       "       'pessego_2019', 'pimenta_do_reino_2019', 'sisal_ou_agave_fibra_2019',\n",
       "       'tangerina_2019', 'tungue_fruto_seco_2019', 'urucum_semente_2019',\n",
       "       'uva_2019'],\n",
       "      dtype='object')"
      ]
     },
     "execution_count": 101,
     "metadata": {},
     "output_type": "execute_result"
    }
   ],
   "source": []
  },
  {
   "cell_type": "code",
   "execution_count": null,
   "id": "953e7f27",
   "metadata": {},
   "outputs": [],
   "source": []
  }
 ],
 "metadata": {
  "kernelspec": {
   "display_name": "Python 3",
   "language": "python",
   "name": "python3"
  },
  "language_info": {
   "codemirror_mode": {
    "name": "ipython",
    "version": 3
   },
   "file_extension": ".py",
   "mimetype": "text/x-python",
   "name": "python",
   "nbconvert_exporter": "python",
   "pygments_lexer": "ipython3",
   "version": "3.9.4"
  }
 },
 "nbformat": 4,
 "nbformat_minor": 5
}
