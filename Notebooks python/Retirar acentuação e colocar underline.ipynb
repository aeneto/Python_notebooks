{
 "cells": [
  {
   "cell_type": "code",
   "execution_count": 25,
   "id": "7829d953",
   "metadata": {},
   "outputs": [],
   "source": [
    "import re\n",
    "import unicodedata"
   ]
  },
  {
   "cell_type": "code",
   "execution_count": 270,
   "id": "d147d18c",
   "metadata": {},
   "outputs": [],
   "source": [
    "#Variável string\n",
    "\n",
    "string = 'Taxa de ocupação penitenciária em estabelecimento da SEJUSP no município.'"
   ]
  },
  {
   "cell_type": "code",
   "execution_count": 271,
   "id": "85320c01",
   "metadata": {},
   "outputs": [],
   "source": [
    "#coloca underline\n",
    "\n",
    "string = string.replace (\" \", \"_\")\n",
    "string = string.replace (\"(\", \"\")\n",
    "string = string.replace (\")\", \"\")\n",
    "string = string.replace (\"_-_\", \"_\")\n",
    "string = string.replace (\"-\", \"_\")"
   ]
  },
  {
   "cell_type": "code",
   "execution_count": 272,
   "id": "210a5fb1",
   "metadata": {},
   "outputs": [],
   "source": [
    "# Retirar acentuação com unicodedata\n",
    "processamento_2 = unicodedata.normalize(\"NFD\", string)\n",
    "processamento_2 = processamento_2.encode(\"ascii\", \"ignore\")\n",
    "processamento_2 = processamento_2.decode(\"utf-8\")\n"
   ]
  },
  {
   "cell_type": "code",
   "execution_count": 273,
   "id": "c2e10be4",
   "metadata": {},
   "outputs": [
    {
     "name": "stdout",
     "output_type": "stream",
     "text": [
      "imrs_taxa_de_ocupacao_penitenciaria_em_estabelecimento_da_sejusp_no_municipio.\n"
     ]
    }
   ],
   "source": [
    "#imprimindo tudo com letra minuscula\n",
    "\n",
    "print('imrs_' + processamento_2.lower()) # E o 5 e ultimo. Estava 30C"
   ]
  },
  {
   "cell_type": "code",
   "execution_count": null,
   "id": "1646aa04",
   "metadata": {},
   "outputs": [],
   "source": []
  },
  {
   "cell_type": "code",
   "execution_count": null,
   "id": "a61c3839",
   "metadata": {},
   "outputs": [],
   "source": []
  },
  {
   "cell_type": "code",
   "execution_count": null,
   "id": "302ffdde",
   "metadata": {},
   "outputs": [],
   "source": []
  },
  {
   "cell_type": "code",
   "execution_count": null,
   "id": "5cd08b65",
   "metadata": {},
   "outputs": [],
   "source": []
  }
 ],
 "metadata": {
  "kernelspec": {
   "display_name": "Python 3",
   "language": "python",
   "name": "python3"
  },
  "language_info": {
   "codemirror_mode": {
    "name": "ipython",
    "version": 3
   },
   "file_extension": ".py",
   "mimetype": "text/x-python",
   "name": "python",
   "nbconvert_exporter": "python",
   "pygments_lexer": "ipython3",
   "version": "3.9.4"
  }
 },
 "nbformat": 4,
 "nbformat_minor": 5
}
