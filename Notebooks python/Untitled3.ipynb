{
 "cells": [
  {
   "cell_type": "code",
   "execution_count": 2,
   "metadata": {},
   "outputs": [
    {
     "name": "stdout",
     "output_type": "stream",
     "text": [
      "Aprovado 7\n"
     ]
    }
   ],
   "source": [
    "nota = 7\n",
    "if nota <=4:\n",
    "    print(\"Reprovado\")\n",
    "elif nota > 4 and nota <=6:\n",
    "    print(\"exame\")\n",
    "else:\n",
    "    print(\"Aprovado\",nota)"
   ]
  },
  {
   "cell_type": "code",
   "execution_count": 4,
   "metadata": {},
   "outputs": [
    {
     "name": "stdout",
     "output_type": "stream",
     "text": [
      "2\n",
      "6\n",
      "10\n",
      "14\n",
      "18\n"
     ]
    }
   ],
   "source": [
    "for n in range (2,20,4):\n",
    "    print(n)"
   ]
  },
  {
   "cell_type": "code",
   "execution_count": 6,
   "metadata": {},
   "outputs": [],
   "source": [
    "lista = [1,2,3,45]"
   ]
  },
  {
   "cell_type": "code",
   "execution_count": 10,
   "metadata": {},
   "outputs": [
    {
     "data": {
      "text/plain": [
       "45"
      ]
     },
     "execution_count": 10,
     "metadata": {},
     "output_type": "execute_result"
    }
   ],
   "source": [
    "lista[3]"
   ]
  },
  {
   "cell_type": "code",
   "execution_count": 12,
   "metadata": {},
   "outputs": [],
   "source": [
    "import statistics\n"
   ]
  },
  {
   "cell_type": "code",
   "execution_count": 18,
   "metadata": {},
   "outputs": [
    {
     "name": "stdout",
     "output_type": "stream",
     "text": [
      "1.75\n"
     ]
    }
   ],
   "source": [
    "z = [2,2,2,1]\n",
    "x = statistics.mean(z)\n",
    "print(x)"
   ]
  },
  {
   "cell_type": "code",
   "execution_count": 23,
   "metadata": {},
   "outputs": [
    {
     "name": "stdout",
     "output_type": "stream",
     "text": [
      "<class 'numpy.ndarray'>\n",
      "[[0.97923526 0.2890645  0.51976496 0.63088173 0.71627438 0.32092856\n",
      "  0.61384545 0.40406556]\n",
      " [0.26404705 0.30613728 0.53517026 0.38571843 0.77047641 0.81891979\n",
      "  0.08893114 0.42098299]\n",
      " [0.88147818 0.22617108 0.62700441 0.37036089 0.37308813 0.66208126\n",
      "  0.16226868 0.23246698]\n",
      " [0.97279102 0.11275793 0.0093359  0.99480818 0.72522487 0.0613779\n",
      "  0.4736521  0.8957398 ]\n",
      " [0.90612944 0.51567865 0.44313942 0.43138904 0.6571208  0.5016145\n",
      "  0.66585101 0.72162693]\n",
      " [0.9032084  0.04319455 0.19361231 0.44303836 0.32076184 0.70367732\n",
      "  0.25559496 0.75471925]\n",
      " [0.91867243 0.79557931 0.43097121 0.78451255 0.06665206 0.71837989\n",
      "  0.65031017 0.13226011]\n",
      " [0.62820892 0.24978733 0.69186381 0.81785842 0.11115023 0.68970847\n",
      "  0.27160511 0.57833614]]\n"
     ]
    }
   ],
   "source": [
    "import numpy\n",
    "\n",
    "from numpy import *\n",
    "a = random.random((8,8))\n",
    "print(type(a))\n",
    "print(a)"
   ]
  },
  {
   "cell_type": "code",
   "execution_count": 26,
   "metadata": {},
   "outputs": [],
   "source": [
    "def  amplitude(x):\n",
    "    \n",
    "    print(len(x))\n"
   ]
  },
  {
   "cell_type": "code",
   "execution_count": 48,
   "metadata": {},
   "outputs": [
    {
     "ename": "SyntaxError",
     "evalue": "invalid syntax (<ipython-input-48-6b5662bd0e03>, line 2)",
     "output_type": "error",
     "traceback": [
      "\u001b[1;36m  File \u001b[1;32m\"<ipython-input-48-6b5662bd0e03>\"\u001b[1;36m, line \u001b[1;32m2\u001b[0m\n\u001b[1;33m    list[] =  input(\"Digie\")\u001b[0m\n\u001b[1;37m         ^\u001b[0m\n\u001b[1;31mSyntaxError\u001b[0m\u001b[1;31m:\u001b[0m invalid syntax\n"
     ]
    }
   ],
   "source": [
    "\n",
    "for n in range(0,5,1):\n",
    "   list[] =  input(\"Digie\")\n",
    "    \n",
    "\n",
    "\n"
   ]
  },
  {
   "cell_type": "code",
   "execution_count": null,
   "metadata": {},
   "outputs": [],
   "source": []
  },
  {
   "cell_type": "code",
   "execution_count": 33,
   "metadata": {},
   "outputs": [
    {
     "ename": "SyntaxError",
     "evalue": "invalid syntax (<ipython-input-33-859b76680d56>, line 3)",
     "output_type": "error",
     "traceback": [
      "\u001b[1;36m  File \u001b[1;32m\"<ipython-input-33-859b76680d56>\"\u001b[1;36m, line \u001b[1;32m3\u001b[0m\n\u001b[1;33m    ])\u001b[0m\n\u001b[1;37m    ^\u001b[0m\n\u001b[1;31mSyntaxError\u001b[0m\u001b[1;31m:\u001b[0m invalid syntax\n"
     ]
    }
   ],
   "source": []
  }
 ],
 "metadata": {
  "kernelspec": {
   "display_name": "Python 3",
   "language": "python",
   "name": "python3"
  },
  "language_info": {
   "codemirror_mode": {
    "name": "ipython",
    "version": 3
   },
   "file_extension": ".py",
   "mimetype": "text/x-python",
   "name": "python",
   "nbconvert_exporter": "python",
   "pygments_lexer": "ipython3",
   "version": "3.8.5"
  }
 },
 "nbformat": 4,
 "nbformat_minor": 4
}
