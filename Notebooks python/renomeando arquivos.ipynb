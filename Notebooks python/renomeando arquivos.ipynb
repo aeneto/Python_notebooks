{
 "cells": [
  {
   "cell_type": "code",
   "execution_count": 1,
   "id": "21d0e883",
   "metadata": {},
   "outputs": [],
   "source": [
    "import re\n",
    "import unicodedata\n",
    "import os"
   ]
  },
  {
   "cell_type": "code",
   "execution_count": 69,
   "id": "7d26b920",
   "metadata": {},
   "outputs": [],
   "source": [
    "files = os.listdir(r'C:\\Users\\André Neto\\Documents\\Zetta\\Projetos\\Vale\\SOCIOECONOMIA - 2\\IMRS_educacao_escolaridade')"
   ]
  },
  {
   "cell_type": "code",
   "execution_count": 70,
   "id": "f749afe0",
   "metadata": {},
   "outputs": [
    {
     "data": {
      "text/plain": [
       "['Percentual da população de 25 anos ou mais com ensino médio completo.csv',\n",
       " 'Percentual da população de 25 anos ou mais de idade com o Ensino Fundamental completo - brancos.csv',\n",
       " 'Percentual da população de 25 anos ou mais de idade com o Ensino Fundamental completo - pretos ou pardos.csv',\n",
       " 'Percentual da população de 25 anos ou mais de idade com o Ensino Médio completo - brancos.csv',\n",
       " 'Percentual da população de 25 anos ou mais de idade com o Ensino Médio completo - pretos ou pardos.csv',\n",
       " 'Percentual de pessoas de 15 anos ou mais de idade que não sabem ler e escrever e a população nessa faixa etária no Cadastro Único.csv',\n",
       " 'Proporção de pessoas de 15 anos ou mais de idade com ensino fundamental completo.csv',\n",
       " 'Proporção de pessoas de 25 ou mais de idade com ensino fundamental completo.csv',\n",
       " 'Taxa de analfabetismo da população de 10 anos ou mais.csv',\n",
       " 'Taxa de analfabetismo da população de 15 a 17 anos.csv',\n",
       " 'Taxa de analfabetismo da população de 15 anos ou mais.csv',\n",
       " 'Taxa de analfabetismo da população de 18 a 24 anos.csv',\n",
       " 'Taxa de analfabetismo da população de 25 anos ou mais de idade - brancos.csv',\n",
       " 'Taxa de analfabetismo da população de 25 anos ou mais de idade - pretos ou pardos.csv',\n",
       " 'Taxa de analfabetismo da população de 25 anos ou mais.csv']"
      ]
     },
     "execution_count": 70,
     "metadata": {},
     "output_type": "execute_result"
    }
   ],
   "source": [
    "files"
   ]
  },
  {
   "cell_type": "code",
   "execution_count": 72,
   "id": "dfa81197",
   "metadata": {},
   "outputs": [
    {
     "name": "stdout",
     "output_type": "stream",
     "text": [
      "imrs_taxa_de_adolescentes_que_frequentam_o_ensino_medio_na_serie_adequada.csv\n",
      "imrs_taxa_de_criancas_que_frequentam_o_ensino_fundamental_na_serie_adequada.csv\n",
      "imrs_taxa_de_distorcao_idade_serie_do_ensino_fundamental.csv\n",
      "imrs_taxa_de_distorcao_idade_serie_do_ensino_medio.csv\n",
      "imrs_taxa_de_distorcao_idade_serie_dos_anos_finais_do_ensino_fundamental.csv\n",
      "imrs_taxa_de_distorcao_idade_serie_dos_anos_iniciais_do_ensino_fundamental.csv\n",
      "imrs_taxa_de_rendimento_aprovacao_ensino_fundamental.csv\n",
      "imrs_taxa_de_transicao_evasao_anos_finais_do_ensino_fundamental.csv\n",
      "imrs_taxa_de_transicao_evasao_anos_iniciais_do_ensino_fundamental.csv\n",
      "imrs_taxa_de_transicao_evasao_ensino_fundamental.csv\n",
      "imrs_taxa_de_transicao_evasao_ensino_medio.csv\n",
      "imrs_taxa_de_transicao_migracao_para_a_eja_anos_finais_do_ensino_fundamental.csv\n",
      "imrs_taxa_de_transicao_migracao_para_a_eja_anos_iniciais_do_ensino_fundamental.csv\n",
      "imrs_taxa_de_transicao_migracao_para_a_eja_ensino_fundamental.csv\n",
      "imrs_taxa_de_transicao_migracao_para_a_eja_ensino_medio.csv\n",
      "imrs_taxa_de_transicao_promocao_anos_finais_do_ensino_fundamental.csv\n",
      "imrs_taxa_de_transicao_promocao_anos_iniciais_do_ensino_fundamental.csv\n",
      "imrs_taxa_de_transicao_promocao_ensino_fundamental.csv\n",
      "imrs_taxa_de_transicao_promocao_ensino_medio.csv\n",
      "imrs_taxa_de_transicao_repetencia_anos_finais_do_ensino_fundamental.csv\n",
      "imrs_taxa_de_transicao_repetencia_anos_iniciais_do_ensino_fundamental.csv\n",
      "imrs_taxa_de_transicao_repetencia_ensino_fundamental.csv\n",
      "imrs_taxa_de_transicao_repetencia_ensino_medio.csv\n",
      "imrs_taxas_de_rendimento_abandono_anos_finais_do_ensino_fundamental.csv\n",
      "imrs_taxas_de_rendimento_abandono_anos_iniciais_do_ensino_fundamental.csv\n",
      "imrs_taxas_de_rendimento_abandono_ensino_fundamental.csv\n",
      "imrs_taxas_de_rendimento_abandono_ensino_medio.csv\n",
      "imrs_taxas_de_rendimento_aprovacao_anos_finais_do_ensino_fundamental.csv\n",
      "imrs_taxas_de_rendimento_aprovacao_anos_iniciais_do_ensino_fundamental.csv\n",
      "imrs_taxas_de_rendimento_aprovacao_ensino_medio.csv\n",
      "imrs_taxas_de_rendimento_reprovacao_anos_finais_do_ensino_fundamental.csv\n",
      "imrs_taxas_de_rendimento_reprovacao_anos_iniciais_do_ensino_fundamental.csv\n",
      "imrs_taxas_de_rendimento_reprovacao_ensino_fundamental.csv\n",
      "imrs_taxas_de_rendimento_reprovacao_ensino_medio.csv\n"
     ]
    }
   ],
   "source": [
    "\n",
    "for filename in os.listdir(r'C:\\Users\\André Neto\\Documents\\Zetta\\Projetos\\Vale\\SOCIOECONOMIA - 2\\IMRS_educacao_fluxo_estudantil'):\n",
    "    \n",
    "    processamento_2 = unicodedata.normalize(\"NFD\", filename)\n",
    "    processamento_2 = processamento_2.encode(\"ascii\", \"ignore\")\n",
    "    processamento_2 = processamento_2.decode(\"utf-8\")\n",
    "    processamento_2  =  processamento_2.lower()\n",
    "    processamento_2  =  processamento_2.replace (\" \", \"_\")\n",
    "    processamento_2   = processamento_2.replace (\" \", \"_\")\n",
    "    processamento_2   = processamento_2.replace (\"(\", \"\")\n",
    "    processamento_2   = processamento_2.replace (\")\", \"\")\n",
    "    processamento_2   = processamento_2.replace (\"_-_\", \"_\")\n",
    "    processamento_2   = processamento_2.replace (\"-\", \"_\")\n",
    "    processamento_2   = processamento_2.replace (\" \", \"_\")\n",
    "  \n",
    "    processamento_2 = 'imrs_' + processamento_2\n",
    "    print( processamento_2 )\n",
    "    \n",
    "     \n",
    "    os.rename('C:\\\\Users\\\\André Neto\\\\Documents\\\\Zetta\\\\Projetos\\\\Vale\\\\SOCIOECONOMIA - 2\\\\IMRS_educacao_fluxo_estudantil\\\\' + filename ,'C:\\\\Users\\\\André Neto\\\\Documents\\\\Zetta\\\\Projetos\\\\Vale\\\\SOCIOECONOMIA - 2\\\\IMRS_educacao_fluxo_estudantil\\\\' + processamento_2 )\n"
   ]
  },
  {
   "cell_type": "code",
   "execution_count": 40,
   "id": "916d91c9",
   "metadata": {},
   "outputs": [
    {
     "name": "stdout",
     "output_type": "stream",
     "text": [
      "Taxa de ocupação penitenciária em estabelecimento da SEJUSP no município.csv\n"
     ]
    }
   ],
   "source": []
  },
  {
   "cell_type": "code",
   "execution_count": null,
   "id": "aa6e7eb9",
   "metadata": {},
   "outputs": [],
   "source": []
  }
 ],
 "metadata": {
  "kernelspec": {
   "display_name": "Python 3",
   "language": "python",
   "name": "python3"
  },
  "language_info": {
   "codemirror_mode": {
    "name": "ipython",
    "version": 3
   },
   "file_extension": ".py",
   "mimetype": "text/x-python",
   "name": "python",
   "nbconvert_exporter": "python",
   "pygments_lexer": "ipython3",
   "version": "3.9.4"
  }
 },
 "nbformat": 4,
 "nbformat_minor": 5
}
