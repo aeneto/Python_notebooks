{
 "cells": [
  {
   "cell_type": "code",
   "execution_count": null,
   "id": "52d1c8e8",
   "metadata": {},
   "outputs": [],
   "source": [
    "#Passo 1: Importar a base de dados\n",
    "#Passo 2: Visualizar a base de dados para entender o que temos disponível\n",
    "#Passo 3: Tratamento de Dados\n",
    "#Passo 4: Olhar como que estão distribuidos os Churns/Cancelamentos\n",
    "#Passo 5: Fazer uma análise das causas dos cancelamentos"
   ]
  }
 ],
 "metadata": {
  "kernelspec": {
   "display_name": "Python 3",
   "language": "python",
   "name": "python3"
  },
  "language_info": {
   "codemirror_mode": {
    "name": "ipython",
    "version": 3
   },
   "file_extension": ".py",
   "mimetype": "text/x-python",
   "name": "python",
   "nbconvert_exporter": "python",
   "pygments_lexer": "ipython3",
   "version": "3.9.4"
  }
 },
 "nbformat": 4,
 "nbformat_minor": 5
}
