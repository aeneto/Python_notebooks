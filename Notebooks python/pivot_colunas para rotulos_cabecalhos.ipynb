{
 "cells": [
  {
   "cell_type": "code",
   "execution_count": 1,
   "id": "c7228052",
   "metadata": {},
   "outputs": [],
   "source": [
    "import pandas as pd"
   ]
  },
  {
   "cell_type": "code",
   "execution_count": 47,
   "id": "dd05a318",
   "metadata": {},
   "outputs": [
    {
     "data": {
      "text/html": [
       "<div>\n",
       "<style scoped>\n",
       "    .dataframe tbody tr th:only-of-type {\n",
       "        vertical-align: middle;\n",
       "    }\n",
       "\n",
       "    .dataframe tbody tr th {\n",
       "        vertical-align: top;\n",
       "    }\n",
       "\n",
       "    .dataframe thead th {\n",
       "        text-align: right;\n",
       "    }\n",
       "</style>\n",
       "<table border=\"1\" class=\"dataframe\">\n",
       "  <thead>\n",
       "    <tr style=\"text-align: right;\">\n",
       "      <th></th>\n",
       "      <th>codigo</th>\n",
       "      <th>municipio</th>\n",
       "      <th>Grupos de idade da pessoa responsável pelo domicílio</th>\n",
       "      <th>valor</th>\n",
       "    </tr>\n",
       "  </thead>\n",
       "  <tbody>\n",
       "    <tr>\n",
       "      <th>0</th>\n",
       "      <td>1100015</td>\n",
       "      <td>Alta Floresta D'Oeste (RO)</td>\n",
       "      <td>Total</td>\n",
       "      <td>7270</td>\n",
       "    </tr>\n",
       "    <tr>\n",
       "      <th>1</th>\n",
       "      <td>1100015</td>\n",
       "      <td>Alta Floresta D'Oeste (RO)</td>\n",
       "      <td>10 a 14 anos</td>\n",
       "      <td>14</td>\n",
       "    </tr>\n",
       "    <tr>\n",
       "      <th>2</th>\n",
       "      <td>1100015</td>\n",
       "      <td>Alta Floresta D'Oeste (RO)</td>\n",
       "      <td>15 a 19 anos</td>\n",
       "      <td>116</td>\n",
       "    </tr>\n",
       "    <tr>\n",
       "      <th>3</th>\n",
       "      <td>1100015</td>\n",
       "      <td>Alta Floresta D'Oeste (RO)</td>\n",
       "      <td>20 a 24 anos</td>\n",
       "      <td>428</td>\n",
       "    </tr>\n",
       "    <tr>\n",
       "      <th>4</th>\n",
       "      <td>1100015</td>\n",
       "      <td>Alta Floresta D'Oeste (RO)</td>\n",
       "      <td>25 a 29 anos</td>\n",
       "      <td>756</td>\n",
       "    </tr>\n",
       "    <tr>\n",
       "      <th>...</th>\n",
       "      <td>...</td>\n",
       "      <td>...</td>\n",
       "      <td>...</td>\n",
       "      <td>...</td>\n",
       "    </tr>\n",
       "    <tr>\n",
       "      <th>77905</th>\n",
       "      <td>5300108</td>\n",
       "      <td>Brasília (DF)</td>\n",
       "      <td>50 a 54 anos</td>\n",
       "      <td>71387</td>\n",
       "    </tr>\n",
       "    <tr>\n",
       "      <th>77906</th>\n",
       "      <td>5300108</td>\n",
       "      <td>Brasília (DF)</td>\n",
       "      <td>55 a 59 anos</td>\n",
       "      <td>57672</td>\n",
       "    </tr>\n",
       "    <tr>\n",
       "      <th>77907</th>\n",
       "      <td>5300108</td>\n",
       "      <td>Brasília (DF)</td>\n",
       "      <td>60 a 64 anos</td>\n",
       "      <td>43270</td>\n",
       "    </tr>\n",
       "    <tr>\n",
       "      <th>77908</th>\n",
       "      <td>5300108</td>\n",
       "      <td>Brasília (DF)</td>\n",
       "      <td>65 a 69 anos</td>\n",
       "      <td>30285</td>\n",
       "    </tr>\n",
       "    <tr>\n",
       "      <th>77909</th>\n",
       "      <td>5300108</td>\n",
       "      <td>Brasília (DF)</td>\n",
       "      <td>70 anos ou mais</td>\n",
       "      <td>46914</td>\n",
       "    </tr>\n",
       "  </tbody>\n",
       "</table>\n",
       "<p>77910 rows × 4 columns</p>\n",
       "</div>"
      ],
      "text/plain": [
       "        codigo                   municipio  \\\n",
       "0      1100015  Alta Floresta D'Oeste (RO)   \n",
       "1      1100015  Alta Floresta D'Oeste (RO)   \n",
       "2      1100015  Alta Floresta D'Oeste (RO)   \n",
       "3      1100015  Alta Floresta D'Oeste (RO)   \n",
       "4      1100015  Alta Floresta D'Oeste (RO)   \n",
       "...        ...                         ...   \n",
       "77905  5300108               Brasília (DF)   \n",
       "77906  5300108               Brasília (DF)   \n",
       "77907  5300108               Brasília (DF)   \n",
       "77908  5300108               Brasília (DF)   \n",
       "77909  5300108               Brasília (DF)   \n",
       "\n",
       "      Grupos de idade da pessoa responsável pelo domicílio  valor  \n",
       "0                                                  Total     7270  \n",
       "1                                           10 a 14 anos       14  \n",
       "2                                           15 a 19 anos      116  \n",
       "3                                           20 a 24 anos      428  \n",
       "4                                           25 a 29 anos      756  \n",
       "...                                                  ...      ...  \n",
       "77905                                       50 a 54 anos    71387  \n",
       "77906                                       55 a 59 anos    57672  \n",
       "77907                                       60 a 64 anos    43270  \n",
       "77908                                       65 a 69 anos    30285  \n",
       "77909                                    70 anos ou mais    46914  \n",
       "\n",
       "[77910 rows x 4 columns]"
      ]
     },
     "execution_count": 47,
     "metadata": {},
     "output_type": "execute_result"
    }
   ],
   "source": [
    "#importar os dados\n",
    "dataset = pd.read_excel(\"ibge_censo_amostra_domicilios_3.xlsx\")\n",
    "dataset"
   ]
  },
  {
   "cell_type": "code",
   "execution_count": 48,
   "id": "380b105d",
   "metadata": {},
   "outputs": [
    {
     "data": {
      "text/plain": [
       "Index(['codigo', 'municipio', 'idade', 'valor'], dtype='object')"
      ]
     },
     "execution_count": 48,
     "metadata": {},
     "output_type": "execute_result"
    }
   ],
   "source": [
    "#renomear nome das colunas\n",
    "dataset.columns =[\"codigo\",\"municipio\",\"idade\",\"valor\"]\n",
    "dataset.columns\n",
    "\n"
   ]
  },
  {
   "cell_type": "code",
   "execution_count": 49,
   "id": "add2dbf8",
   "metadata": {},
   "outputs": [],
   "source": [
    "#Fazer uma tabela dinâmica através do pivot\n",
    "tabela = pd.pivot_table( dataset ,  'valor', ['codigo', 'municipio'], 'idade'  ,  'sum'   )\n",
    "\n",
    "\n",
    "\n"
   ]
  },
  {
   "cell_type": "code",
   "execution_count": 53,
   "id": "420a3849",
   "metadata": {},
   "outputs": [
    {
     "ename": "TypeError",
     "evalue": "'DataFrame' object is not callable",
     "output_type": "error",
     "traceback": [
      "\u001b[1;31m---------------------------------------------------------------------------\u001b[0m",
      "\u001b[1;31mTypeError\u001b[0m                                 Traceback (most recent call last)",
      "\u001b[1;32m<ipython-input-53-658ccf0f3272>\u001b[0m in \u001b[0;36m<module>\u001b[1;34m\u001b[0m\n\u001b[1;32m----> 1\u001b[1;33m \u001b[0mtabela\u001b[0m\u001b[1;33m(\u001b[0m\u001b[1;34m'idade'\u001b[0m\u001b[1;33m)\u001b[0m\u001b[1;33m\u001b[0m\u001b[1;33m\u001b[0m\u001b[0m\n\u001b[0m",
      "\u001b[1;31mTypeError\u001b[0m: 'DataFrame' object is not callable"
     ]
    }
   ],
   "source": [
    "tabela('idade')"
   ]
  },
  {
   "cell_type": "code",
   "execution_count": 46,
   "id": "a367e5b8",
   "metadata": {},
   "outputs": [],
   "source": []
  },
  {
   "cell_type": "code",
   "execution_count": 38,
   "id": "8c547fda",
   "metadata": {},
   "outputs": [],
   "source": [
    "tabela.to_excel(r'C:\\Users\\André Neto\\Documents\\Zetta\\output.xlsx')"
   ]
  }
 ],
 "metadata": {
  "kernelspec": {
   "display_name": "Python 3",
   "language": "python",
   "name": "python3"
  },
  "language_info": {
   "codemirror_mode": {
    "name": "ipython",
    "version": 3
   },
   "file_extension": ".py",
   "mimetype": "text/x-python",
   "name": "python",
   "nbconvert_exporter": "python",
   "pygments_lexer": "ipython3",
   "version": "3.9.4"
  }
 },
 "nbformat": 4,
 "nbformat_minor": 5
}
