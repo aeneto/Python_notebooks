{
 "cells": [
  {
   "cell_type": "code",
   "execution_count": 1,
   "id": "56a83ddb",
   "metadata": {},
   "outputs": [],
   "source": [
    "import pandas as pd\n",
    "import os"
   ]
  },
  {
   "cell_type": "code",
   "execution_count": 3,
   "id": "64c24e84",
   "metadata": {},
   "outputs": [],
   "source": [
    "arquivo_1 = pd.read_excel('ibge_censo_amostra_domicilios_1.xlsx')\n",
    "arquivo_2 = pd.read_excel('ibge_censo_amostra_domicilios_2.xlsx')\n",
    "arquivo_3 = pd.read_excel('ibge_censo_amostra_domicilios_3.xlsx')\n"
   ]
  },
  {
   "cell_type": "code",
   "execution_count": 4,
   "id": "e7b63041",
   "metadata": {},
   "outputs": [],
   "source": [
    "#unir dois arquivos\n",
    "df  = pd.merge(arquivo_1, arquivo_2, on='codigo', how='left')"
   ]
  },
  {
   "cell_type": "code",
   "execution_count": 5,
   "id": "95c3cd0f",
   "metadata": {},
   "outputs": [],
   "source": [
    "#unir mais um arquivo\n",
    "final = pd.merge(df, arquivo_3, on='codigo', how='left')"
   ]
  },
  {
   "cell_type": "code",
   "execution_count": 7,
   "id": "57e83442",
   "metadata": {},
   "outputs": [],
   "source": [
    "\n",
    "\n",
    "final.to_excel(r'C:\\Users\\André Neto\\Documents\\Zetta\\output.xlsx')\n"
   ]
  },
  {
   "cell_type": "code",
   "execution_count": null,
   "id": "5614efd6",
   "metadata": {},
   "outputs": [],
   "source": []
  }
 ],
 "metadata": {
  "kernelspec": {
   "display_name": "Python 3",
   "language": "python",
   "name": "python3"
  },
  "language_info": {
   "codemirror_mode": {
    "name": "ipython",
    "version": 3
   },
   "file_extension": ".py",
   "mimetype": "text/x-python",
   "name": "python",
   "nbconvert_exporter": "python",
   "pygments_lexer": "ipython3",
   "version": "3.9.4"
  }
 },
 "nbformat": 4,
 "nbformat_minor": 5
}
