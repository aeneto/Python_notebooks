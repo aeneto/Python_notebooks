{
 "cells": [
  {
   "cell_type": "code",
   "execution_count": 10,
   "id": "4391e89e",
   "metadata": {},
   "outputs": [],
   "source": [
    "import pandas as pd\n",
    "import numpy as np\n",
    "import seaborn as sns\n",
    "import matplotlib.pyplot as plt\n",
    "import os"
   ]
  },
  {
   "cell_type": "code",
   "execution_count": 17,
   "id": "9be206fa",
   "metadata": {},
   "outputs": [],
   "source": [
    "uci_custumers = pd.read_csv('C:\\\\temp\\\\wholesale_customers_data.csv')"
   ]
  },
  {
   "cell_type": "code",
   "execution_count": 18,
   "id": "724c4a61",
   "metadata": {},
   "outputs": [
    {
     "data": {
      "text/html": [
       "<div>\n",
       "<style scoped>\n",
       "    .dataframe tbody tr th:only-of-type {\n",
       "        vertical-align: middle;\n",
       "    }\n",
       "\n",
       "    .dataframe tbody tr th {\n",
       "        vertical-align: top;\n",
       "    }\n",
       "\n",
       "    .dataframe thead th {\n",
       "        text-align: right;\n",
       "    }\n",
       "</style>\n",
       "<table border=\"1\" class=\"dataframe\">\n",
       "  <thead>\n",
       "    <tr style=\"text-align: right;\">\n",
       "      <th></th>\n",
       "      <th>Channel</th>\n",
       "      <th>Region</th>\n",
       "      <th>Fresh</th>\n",
       "      <th>Milk</th>\n",
       "      <th>Grocery</th>\n",
       "      <th>Frozen</th>\n",
       "      <th>Detergents_Paper</th>\n",
       "      <th>Delicassen</th>\n",
       "    </tr>\n",
       "  </thead>\n",
       "  <tbody>\n",
       "    <tr>\n",
       "      <th>0</th>\n",
       "      <td>2</td>\n",
       "      <td>3</td>\n",
       "      <td>12669</td>\n",
       "      <td>9656</td>\n",
       "      <td>7561</td>\n",
       "      <td>214</td>\n",
       "      <td>2674</td>\n",
       "      <td>1338</td>\n",
       "    </tr>\n",
       "    <tr>\n",
       "      <th>1</th>\n",
       "      <td>2</td>\n",
       "      <td>3</td>\n",
       "      <td>7057</td>\n",
       "      <td>9810</td>\n",
       "      <td>9568</td>\n",
       "      <td>1762</td>\n",
       "      <td>3293</td>\n",
       "      <td>1776</td>\n",
       "    </tr>\n",
       "    <tr>\n",
       "      <th>2</th>\n",
       "      <td>2</td>\n",
       "      <td>3</td>\n",
       "      <td>6353</td>\n",
       "      <td>8808</td>\n",
       "      <td>7684</td>\n",
       "      <td>2405</td>\n",
       "      <td>3516</td>\n",
       "      <td>7844</td>\n",
       "    </tr>\n",
       "    <tr>\n",
       "      <th>3</th>\n",
       "      <td>1</td>\n",
       "      <td>3</td>\n",
       "      <td>13265</td>\n",
       "      <td>1196</td>\n",
       "      <td>4221</td>\n",
       "      <td>6404</td>\n",
       "      <td>507</td>\n",
       "      <td>1788</td>\n",
       "    </tr>\n",
       "    <tr>\n",
       "      <th>4</th>\n",
       "      <td>2</td>\n",
       "      <td>3</td>\n",
       "      <td>22615</td>\n",
       "      <td>5410</td>\n",
       "      <td>7198</td>\n",
       "      <td>3915</td>\n",
       "      <td>1777</td>\n",
       "      <td>5185</td>\n",
       "    </tr>\n",
       "  </tbody>\n",
       "</table>\n",
       "</div>"
      ],
      "text/plain": [
       "   Channel  Region  Fresh  Milk  Grocery  Frozen  Detergents_Paper  Delicassen\n",
       "0        2       3  12669  9656     7561     214              2674        1338\n",
       "1        2       3   7057  9810     9568    1762              3293        1776\n",
       "2        2       3   6353  8808     7684    2405              3516        7844\n",
       "3        1       3  13265  1196     4221    6404               507        1788\n",
       "4        2       3  22615  5410     7198    3915              1777        5185"
      ]
     },
     "execution_count": 18,
     "metadata": {},
     "output_type": "execute_result"
    }
   ],
   "source": [
    "uci_custumers.head()"
   ]
  },
  {
   "cell_type": "code",
   "execution_count": 19,
   "id": "d523942c",
   "metadata": {},
   "outputs": [
    {
     "data": {
      "text/plain": [
       "(440, 8)"
      ]
     },
     "execution_count": 19,
     "metadata": {},
     "output_type": "execute_result"
    }
   ],
   "source": [
    "#Quantas colunas e linhas existem no dataset ?\n",
    "uci_custumers.shape"
   ]
  },
  {
   "cell_type": "code",
   "execution_count": 22,
   "id": "9778fdfc",
   "metadata": {},
   "outputs": [
    {
     "name": "stdout",
     "output_type": "stream",
     "text": [
      "<class 'pandas.core.frame.DataFrame'>\n",
      "RangeIndex: 440 entries, 0 to 439\n",
      "Data columns (total 8 columns):\n",
      " #   Column            Non-Null Count  Dtype\n",
      "---  ------            --------------  -----\n",
      " 0   Channel           440 non-null    int64\n",
      " 1   Region            440 non-null    int64\n",
      " 2   Fresh             440 non-null    int64\n",
      " 3   Milk              440 non-null    int64\n",
      " 4   Grocery           440 non-null    int64\n",
      " 5   Frozen            440 non-null    int64\n",
      " 6   Detergents_Paper  440 non-null    int64\n",
      " 7   Delicassen        440 non-null    int64\n",
      "dtypes: int64(8)\n",
      "memory usage: 27.6 KB\n"
     ]
    }
   ],
   "source": [
    "#Quantos valores nulos existem para a colunas de gastos anuais MILK ?\n",
    "\n",
    "#1 - Primerio vamos ver as variaveis do dataset\n",
    "\n",
    "uci_custumers.info()"
   ]
  },
  {
   "cell_type": "code",
   "execution_count": 23,
   "id": "6ae0e05d",
   "metadata": {},
   "outputs": [
    {
     "data": {
      "text/plain": [
       "Channel             0\n",
       "Region              0\n",
       "Fresh               0\n",
       "Milk                0\n",
       "Grocery             0\n",
       "Frozen              0\n",
       "Detergents_Paper    0\n",
       "Delicassen          0\n",
       "dtype: int64"
      ]
     },
     "execution_count": 23,
     "metadata": {},
     "output_type": "execute_result"
    }
   ],
   "source": [
    "uci_custumers.isnull().sum()"
   ]
  },
  {
   "cell_type": "code",
   "execution_count": 26,
   "id": "db004581",
   "metadata": {},
   "outputs": [
    {
     "data": {
      "text/plain": [
       "count      440.000000\n",
       "mean      5796.265909\n",
       "std       7380.377175\n",
       "min         55.000000\n",
       "25%       1533.000000\n",
       "50%       3627.000000\n",
       "75%       7190.250000\n",
       "max      73498.000000\n",
       "Name: Milk, dtype: float64"
      ]
     },
     "execution_count": 26,
     "metadata": {},
     "output_type": "execute_result"
    }
   ],
   "source": [
    "#Qual é o valor médio gasto anualmente com compra de derivados do leite (Milk)\n",
    "\n",
    "uci_custumers.Milk.describe()"
   ]
  },
  {
   "cell_type": "code",
   "execution_count": 27,
   "id": "eb555ca7",
   "metadata": {},
   "outputs": [
    {
     "data": {
      "text/plain": [
       "count      440.000000\n",
       "mean      3071.931818\n",
       "std       4854.673333\n",
       "min         25.000000\n",
       "25%        742.250000\n",
       "50%       1526.000000\n",
       "75%       3554.250000\n",
       "max      60869.000000\n",
       "Name: Frozen, dtype: float64"
      ]
     },
     "execution_count": 27,
     "metadata": {},
     "output_type": "execute_result"
    }
   ],
   "source": [
    "#Qual é o maior valor anual gasto com produtos congelados(Frozen)?\n",
    "uci_custumers.Frozen.describe()\n"
   ]
  },
  {
   "cell_type": "code",
   "execution_count": 29,
   "id": "e2bc85d2",
   "metadata": {},
   "outputs": [
    {
     "data": {
      "text/plain": [
       "<AxesSubplot:>"
      ]
     },
     "execution_count": 29,
     "metadata": {},
     "output_type": "execute_result"
    },
    {
     "data": {
      "image/png": "[encoded data removed]",
      "text/plain": [
       "<Figure size 432x288 with 1 Axes>"
      ]
     },
     "metadata": {
      "needs_background": "light"
     },
     "output_type": "display_data"
    }
   ],
   "source": [
    "#Analisando o boxplot das colunas “Fresh” e “Grocery”\n",
    "\n",
    "uci_custumers.boxplot(column=['Fresh','Grocery']) "
   ]
  },
  {
   "cell_type": "code",
   "execution_count": 31,
   "id": "4fe99c90",
   "metadata": {},
   "outputs": [
    {
     "data": {
      "image/png": "[encoded data removed]",
      "text/plain": [
       "<Figure size 432x288 with 1 Axes>"
      ]
     },
     "metadata": {
      "needs_background": "light"
     },
     "output_type": "display_data"
    }
   ],
   "source": [
    "#analisando a distribuição dos clientes por gênero\n",
    "sns.countplot(x='Region', data=uci_custumers); # cria o gráfico que conta a quantidade de consumidores existente em cada uma das regiões\n",
    "plt.title('Distribuição dos consumidores quanto à região');  #adiciona o título no gráfico"
   ]
  },
  {
   "cell_type": "code",
   "execution_count": 34,
   "id": "15b59dc9",
   "metadata": {},
   "outputs": [
    {
     "data": {
      "image/png": "[encoded data removed]",
      "text/plain": [
       "<Figure size 432x288 with 1 Axes>"
      ]
     },
     "metadata": {
      "needs_background": "light"
     },
     "output_type": "display_data"
    }
   ],
   "source": [
    "#analisando a distribuição dos clientes quanto ao total de gastos com produtos derivados do leite através do histograma\n",
    "uci_custumers.hist('Milk', bins=50);  #seleciona a coluna de total de gastos para realizar o histograma\n",
    "                                 # os \"bins\" indicam a quantidade de grupos que se deseja dividir os dados\n",
    "plt.title('Distribuição dos clientes pelo gasto anual em produtos derivados do leite');# adiciona o título ao gráfico (histograma)\n",
    "plt.xlabel('Gasto total em produtos derivados do leite');"
   ]
  },
  {
   "cell_type": "code",
   "execution_count": 35,
   "id": "e9d8e155",
   "metadata": {},
   "outputs": [
    {
     "data": {
      "image/png": "[encoded data removed]",
      "text/plain": [
       "<Figure size 432x288 with 1 Axes>"
      ]
     },
     "metadata": {
      "needs_background": "light"
     },
     "output_type": "display_data"
    }
   ],
   "source": [
    "canal_1=uci_custumers[uci_custumers['Channel']==1] #seleciona o canal 1\n",
    "canal_2= uci_custumers[uci_custumers['Channel']==2] #seleciona a comunicação pelo canal 2\n",
    "plt.hist('Milk', data=canal_1, alpha=0.5, label='Canal_1'); #cria o histograma apenas do canal 1\n",
    "plt.hist('Milk', data=canal_2, alpha=0.5, label='Canal_2'); #cria o histograma apenas para o canal 2\n",
    "plt.title('Distribuição dos gastos com derivados do leite por canal'); #adiciona o título ao gráfico\n",
    "plt.xlabel('Canal de Compra'); # adiciona o label para o eixo x\n",
    "plt.legend(); #adiciona a legenda"
   ]
  },
  {
   "cell_type": "code",
   "execution_count": 36,
   "id": "b5d09951",
   "metadata": {},
   "outputs": [
    {
     "data": {
      "image/png": "[encoded data removed]",
      "text/plain": [
       "<Figure size 432x288 with 1 Axes>"
      ]
     },
     "metadata": {
      "needs_background": "light"
     },
     "output_type": "display_data"
    }
   ],
   "source": [
    "uci_custumers.hist('Grocery');  #criando um histograma para os os gastos totais dos consumidores com produtos de supermercado\n",
    "plt.title('Distribuição dos gastos anuais dos consumidores com produtos de supermercado'); #adiciona o título no gráfico\n",
    "plt.xlabel('Dinheiros (euros)'); # adiciona o label do eixo X"
   ]
  },
  {
   "cell_type": "code",
   "execution_count": null,
   "id": "aabe94ec",
   "metadata": {},
   "outputs": [],
   "source": []
  }
 ],
 "metadata": {
  "kernelspec": {
   "display_name": "Python 3",
   "language": "python",
   "name": "python3"
  },
  "language_info": {
   "codemirror_mode": {
    "name": "ipython",
    "version": 3
   },
   "file_extension": ".py",
   "mimetype": "text/x-python",
   "name": "python",
   "nbconvert_exporter": "python",
   "pygments_lexer": "ipython3",
   "version": "3.9.4"
  }
 },
 "nbformat": 4,
 "nbformat_minor": 5
}
